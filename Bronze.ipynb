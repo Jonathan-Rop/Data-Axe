{
 "cells": [
  {
   "cell_type": "code",
   "execution_count": 1,
   "id": "4eac3121",
   "metadata": {},
   "outputs": [],
   "source": [
    "from pyspark.sql import SparkSession\n",
    "spark = SparkSession.builder \\\n",
    "    .appName(\"Bronze\") \\\n",
    "    .getOrCreate()"
   ]
  },
  {
   "cell_type": "code",
   "execution_count": 3,
   "id": "9c30a226",
   "metadata": {},
   "outputs": [],
   "source": [
    "df = spark.read.csv (r'C:\\Users\\JKR\\Documents\\Project-csv\\Attack_Dataset.csv', header = True)"
   ]
  },
  {
   "cell_type": "code",
   "execution_count": 6,
   "id": "808789d2",
   "metadata": {},
   "outputs": [
    {
     "name": "stdout",
     "output_type": "stream",
     "text": [
      "+---+--------------------+--------------------+--------------------+--------------------+--------------------+--------------------+--------------------+--------------------+--------------------+--------------------+--------------------+--------------------+--------------------+--------------------+--------------------+\n",
      "| ID|               Title|            Category|         Attack Type|Scenario Description|          Tools Used|       Attack Steps |         Target Type|       Vulnerability|     MITRE Technique|              Impact|    Detection Method|            Solution|                Tags|              Source|                _c15|\n",
      "+---+--------------------+--------------------+--------------------+--------------------+--------------------+--------------------+--------------------+--------------------+--------------------+--------------------+--------------------+--------------------+--------------------+--------------------+--------------------+\n",
      "|  1|Authentication By...|     Mobile Security|SQL Injection (SQLi)|A login form fail...|Browser, Burp Sui...|1. Reconnaissance...|Web Login Portals...|Unsanitized input...|T1078 (Valid Acco...|Full account take...|Web server logs, ...|Use prepared stat...|SQLi, Authenticat...|OWASP, MITRE ATT&...|                NULL|\n",
      "|  2|Union-Based SQL I...|AI Agents & LLM E...|       SQL Injection|\"This attack occu...| often gaining ac...|SQLMap, Burp Suit...|1. Identify User ...|Web Applications,...|Improperly filter...|T1190 – Exploit P...|Data leakage, Cre...|Web Application F...|Use parameterized...|#SQLInjection #We...|OWASP, MITRE ATT&...|\n",
      "|  3|Error-Based SQL I...|AI Agents & LLM E...|       SQL Injection|This attack occur...|SQLMap, Burp Suit...|\"1. Identify Inpu...| it can leak deta...|       database type| or version.4. Cr...| (SELECT TOP 1 na...| the attacker can...|Web Applications,...|Error message exp...|T1190 – Exploit P...|Information discl...|\n",
      "|  4| Blind SQL Injection|AI Agents & LLM E...|       SQL Injection|In Blind SQL Inje...|SQLMap, Burp Suit...|1. Find a User In...|Web Applications,...|No error messages...|T1190 – Exploit P...|Slow and stealthy...|Monitor for slow ...|Use parameterized...|#BlindSQLi #TimeB...|OWASP, MITRE ATT&...|                NULL|\n",
      "|  5|Second-Order SQL ...|AI Agents & LLM E...|       SQL Injection|In a Second-Order...|Burp Suite, SQLMa...|\"1. Identify Stor...|           but later| when another par...| the injection is...| when the user lo...| the stored input...| the attacker can...| logging in as an...| attackers may au...|Web Applications,...|\n",
      "|  6|Out-of-Band SQL I...|AI Agents & LLM E...|       SQL Injection|Out-of-Band SQL I...|SQLMap, Burp Coll...|1. Identify Input...|Web Applications ...|Improperly handle...|T1048 – Exfiltrat...|Stealthy data exf...|Monitor outbound ...|Disable database ...|#OOBSQLi #OutOfBa...|OWASP, MITRE ATT&...|                NULL|\n",
      "|  7|Boolean-Based Bli...|AI Agents & LLM E...|       SQL Injection|Boolean-Based Bli...|SQLMap, Burp Suit...|1. Find an Input ...|Web Applications,...|Lack of input val...|T1190 – Exploit P...|Stealthy data the...|Track repeated lo...|Use parameterized...|#BooleanSQLi #Bli...|OWASP, MITRE ATT&...|                NULL|\n",
      "|  8|Stored SQL Injection|AI Agents & LLM E...|       SQL Injection|In Stored SQL Inj...|SQLMap, Burp Suit...|1. Identify a Sto...|Web Applications ...|Inputs stored in ...|T1505.003 – SQL I...|Database corrupti...|Monitor logs for ...|Sanitize user inp...|#StoredSQLi #Pers...|OWASP, MITRE ATT&...|                NULL|\n",
      "|  9|Login Bypass via ...|AI Agents & LLM E...|       SQL Injection|This attack allow...|Burp Suite, SQLMa...|1. Locate a Login...|Login Forms of We...|Login fields that...|T1190 – Exploit P...|Unauthorized logi...|Monitor logs for ...|Use prepared stat...|#LoginBypass #SQL...|OWASP, MITRE ATT&...|                NULL|\n",
      "| 10|Stacked SQL Injec...|AI Agents & LLM E...|      SQL Injection |Attacker uses SQL...|SQLMap, Burp Suit...|1 Reconnaissance:...|Web Applications ...|Improper Input Va...|T1505 (Exploitati...|Full DB compromis...|WAF logs, SQL que...|Use parameterized...|sqli, stacked que...|Educational / Dem...|                NULL|\n",
      "| 11|Comment Injection...|AI Agents & LLM E...|      SQL Injection |In this attack, a...|Burp Suite, SQLMa...|1. Identify User ...|Web Applications ...|Input not properl...|T1190 (Exploit Pu...|Unauthorized acce...|Log unusual SQL p...|Use parameterized...|sql-injection, co...|Educational / Lab...|                NULL|\n",
      "| 12|Stored XSS (Persi...|AI Agents & LLM E...|Cross-Site Script...|Stored XSS is whe...|Burp Suite, OWASP...|1. Find a Storabl...|Web Applications ...|User input that i...|T1059.007 – JavaS...|User session hija...|Scan forms and in...|Sanitize and esca...|#StoredXSS #Persi...|OWASP, PortSwigge...|                NULL|\n",
      "| 13|       Reflected XSS|AI Agents & LLM E...|Cross-Site Script...|In a reflected XS...|Browser Developer...|\"Step 1: Find a V...| If an alert pops...|                chat|            comments| etc. Step 6: Vic...| the browser exec...|   redirect the user| show fake login ...| or perform any b...|Web Application w...|\n",
      "| 14|DOM-Based XSS (Do...|AI Agents & LLM E...|Cross-Site Script...|DOM-Based XSS occ...|Burp Suite, Chrom...|1. Understand How...|Single Page Appli...|Client-side JavaS...|T1059.007 – JavaS...|User data theft (...|Use browser secur...|Always sanitize d...|#DOMXSS #CrossSit...|OWASP, PortSwigge...|                NULL|\n",
      "| 15|Self-XSS (Self Cr...|AI Agents & LLM E...|Cross-Site Script...|Self-XSS is not a...|Browser Developer...|\"Step 1: Understa...|        gaming sites|             Discord|            Telegram|    YouTube comments| or social media....| the code can: - ...| not website flaw...|             Firefox| and others now s...|\n",
      "| 16|  Mutated XSS (mXSS)|AI Agents & LLM E...|Cross-Site Script...|Mutated XSS (mXSS...|Burp Suite, OWASP...|\" Step 1: Underst...| the browser muta...|               JSoup| etc.)- But that ...| mXSS can now:Ste...| etc. Step 8: Exa...|Web apps with WYS...|HTML sanitizers t...|T1059.007 – JavaS...|- Credential thef...|\n",
      "| 17|        Polyglot XSS|AI Agents & LLM E...|Cross-Site Script...|Polyglot XSS is a...|Burp Suite, XSS P...|\" Step 1: Underst...| others may still...| polyglot payload...| it’s harder to f...|                  JS|                 URL|          attributes|                 CSS|               etc.\"|Web apps that ren...|\n",
      "| 18|Attribute Injecti...|AI Agents & LLM E...|Cross-Site Script...|Attribute Injecti...|Burp Suite, OWASP...|\" Step 1: Underst...| it’s possible to...| XSS is possible....|             onclick| or onmouseover.-...| href with javasc...| alert(1) runs wh...|  but not on onerror|             onclick|               etc.\"|\n",
      "| 19|JavaScript Contex...|AI Agents & LLM E...|Cross-Site Script...|JavaScript Contex...|Burp Suite, OWASP...|\"Step 1: Understa...| attackers can br...| so the attacker ...|            redirect| modify page). St...| but what if the ...| injects a new co...| and comments out...|                 `>`| and forget about...|\n",
      "| 20|GET-Based CSRF (C...|AI Agents & LLM E...|CSRF (Cross-Site ...|GET-Based CSRF is...|Burp Suite, OWASP...|\"Step 1: Understa...| the browser send...| it believes this...|Websites that per...|No CSRF token in ...|T1530 – Data from...|- Unauthorized mo...|- Check for endpo...|- Do not use GET ...|#CSRF #GETBasedCS...|\n",
      "+---+--------------------+--------------------+--------------------+--------------------+--------------------+--------------------+--------------------+--------------------+--------------------+--------------------+--------------------+--------------------+--------------------+--------------------+--------------------+\n",
      "only showing top 20 rows\n"
     ]
    }
   ],
   "source": [
    "df.show()"
   ]
  },
  {
   "cell_type": "code",
   "execution_count": 7,
   "id": "ab6c8c6d",
   "metadata": {},
   "outputs": [
    {
     "data": {
      "text/plain": [
       "['ID',\n",
       " 'Title',\n",
       " 'Category',\n",
       " 'Attack Type',\n",
       " 'Scenario Description',\n",
       " 'Tools Used',\n",
       " 'Attack Steps ',\n",
       " 'Target Type',\n",
       " 'Vulnerability',\n",
       " 'MITRE Technique',\n",
       " 'Impact',\n",
       " 'Detection Method',\n",
       " 'Solution',\n",
       " 'Tags',\n",
       " 'Source',\n",
       " '_c15']"
      ]
     },
     "execution_count": 7,
     "metadata": {},
     "output_type": "execute_result"
    }
   ],
   "source": [
    "df.columns"
   ]
  },
  {
   "cell_type": "code",
   "execution_count": null,
   "id": "6435e6c4",
   "metadata": {},
   "outputs": [],
   "source": []
  }
 ],
 "metadata": {
  "kernelspec": {
   "display_name": "Python 3",
   "language": "python",
   "name": "python3"
  },
  "language_info": {
   "codemirror_mode": {
    "name": "ipython",
    "version": 3
   },
   "file_extension": ".py",
   "mimetype": "text/x-python",
   "name": "python",
   "nbconvert_exporter": "python",
   "pygments_lexer": "ipython3",
   "version": "3.13.4"
  }
 },
 "nbformat": 4,
 "nbformat_minor": 5
}
